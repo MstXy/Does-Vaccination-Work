{
 "cells": [
  {
   "cell_type": "code",
   "execution_count": 1,
   "metadata": {},
   "outputs": [],
   "source": [
    "import pandas as pd"
   ]
  },
  {
   "cell_type": "code",
   "execution_count": 2,
   "metadata": {},
   "outputs": [
    {
     "data": {
      "text/html": [
       "<div>\n",
       "<style scoped>\n",
       "    .dataframe tbody tr th:only-of-type {\n",
       "        vertical-align: middle;\n",
       "    }\n",
       "\n",
       "    .dataframe tbody tr th {\n",
       "        vertical-align: top;\n",
       "    }\n",
       "\n",
       "    .dataframe thead th {\n",
       "        text-align: right;\n",
       "    }\n",
       "</style>\n",
       "<table border=\"1\" class=\"dataframe\">\n",
       "  <thead>\n",
       "    <tr style=\"text-align: right;\">\n",
       "      <th></th>\n",
       "      <th>CountryName</th>\n",
       "      <th>Date</th>\n",
       "      <th>V1</th>\n",
       "      <th>V2</th>\n",
       "      <th>V3</th>\n",
       "      <th>V4</th>\n",
       "      <th>ConfirmedCases</th>\n",
       "      <th>ConfirmedDeaths</th>\n",
       "      <th>MajorityVaccinated</th>\n",
       "      <th>PercentageVaccinated</th>\n",
       "      <th>Population</th>\n",
       "      <th>PopulationVaccinated</th>\n",
       "    </tr>\n",
       "  </thead>\n",
       "  <tbody>\n",
       "    <tr>\n",
       "      <th>0</th>\n",
       "      <td>Aruba</td>\n",
       "      <td>202001</td>\n",
       "      <td>0.0</td>\n",
       "      <td>0.0</td>\n",
       "      <td>0.0</td>\n",
       "      <td>NaN</td>\n",
       "      <td>0.0</td>\n",
       "      <td>0.0</td>\n",
       "      <td>NV</td>\n",
       "      <td>0.0</td>\n",
       "      <td>106845</td>\n",
       "      <td>0.0</td>\n",
       "    </tr>\n",
       "    <tr>\n",
       "      <th>1</th>\n",
       "      <td>Aruba</td>\n",
       "      <td>202002</td>\n",
       "      <td>0.0</td>\n",
       "      <td>0.0</td>\n",
       "      <td>0.0</td>\n",
       "      <td>NaN</td>\n",
       "      <td>0.0</td>\n",
       "      <td>0.0</td>\n",
       "      <td>NV</td>\n",
       "      <td>0.0</td>\n",
       "      <td>106845</td>\n",
       "      <td>0.0</td>\n",
       "    </tr>\n",
       "    <tr>\n",
       "      <th>2</th>\n",
       "      <td>Aruba</td>\n",
       "      <td>202003</td>\n",
       "      <td>0.0</td>\n",
       "      <td>0.0</td>\n",
       "      <td>0.0</td>\n",
       "      <td>NaN</td>\n",
       "      <td>55.0</td>\n",
       "      <td>0.0</td>\n",
       "      <td>NV</td>\n",
       "      <td>0.0</td>\n",
       "      <td>106845</td>\n",
       "      <td>0.0</td>\n",
       "    </tr>\n",
       "    <tr>\n",
       "      <th>3</th>\n",
       "      <td>Aruba</td>\n",
       "      <td>202004</td>\n",
       "      <td>0.0</td>\n",
       "      <td>0.0</td>\n",
       "      <td>0.0</td>\n",
       "      <td>NaN</td>\n",
       "      <td>100.0</td>\n",
       "      <td>2.0</td>\n",
       "      <td>NV</td>\n",
       "      <td>0.0</td>\n",
       "      <td>106845</td>\n",
       "      <td>0.0</td>\n",
       "    </tr>\n",
       "    <tr>\n",
       "      <th>4</th>\n",
       "      <td>Aruba</td>\n",
       "      <td>202005</td>\n",
       "      <td>0.0</td>\n",
       "      <td>0.0</td>\n",
       "      <td>0.0</td>\n",
       "      <td>NaN</td>\n",
       "      <td>101.0</td>\n",
       "      <td>3.0</td>\n",
       "      <td>NV</td>\n",
       "      <td>0.0</td>\n",
       "      <td>106845</td>\n",
       "      <td>0.0</td>\n",
       "    </tr>\n",
       "  </tbody>\n",
       "</table>\n",
       "</div>"
      ],
      "text/plain": [
       "  CountryName    Date   V1   V2   V3   V4  ConfirmedCases  ConfirmedDeaths  \\\n",
       "0       Aruba  202001  0.0  0.0  0.0  NaN             0.0              0.0   \n",
       "1       Aruba  202002  0.0  0.0  0.0  NaN             0.0              0.0   \n",
       "2       Aruba  202003  0.0  0.0  0.0  NaN            55.0              0.0   \n",
       "3       Aruba  202004  0.0  0.0  0.0  NaN           100.0              2.0   \n",
       "4       Aruba  202005  0.0  0.0  0.0  NaN           101.0              3.0   \n",
       "\n",
       "  MajorityVaccinated  PercentageVaccinated  Population  PopulationVaccinated  \n",
       "0                 NV                   0.0      106845                   0.0  \n",
       "1                 NV                   0.0      106845                   0.0  \n",
       "2                 NV                   0.0      106845                   0.0  \n",
       "3                 NV                   0.0      106845                   0.0  \n",
       "4                 NV                   0.0      106845                   0.0  "
      ]
     },
     "execution_count": 2,
     "metadata": {},
     "output_type": "execute_result"
    }
   ],
   "source": [
    "df_m = pd.read_csv(\"monthly_old.csv\")\n",
    "df_m.head()"
   ]
  },
  {
   "cell_type": "code",
   "execution_count": 3,
   "metadata": {},
   "outputs": [],
   "source": [
    "df_m[\"NewConfirmedCases\"] = df_m[\"ConfirmedCases\"].diff()\n",
    "df_m[\"NewConfirmedDeaths\"] = df_m[\"ConfirmedDeaths\"].diff()\n",
    "# df_m.fillna(0, inplace=True)"
   ]
  },
  {
   "cell_type": "code",
   "execution_count": 4,
   "metadata": {},
   "outputs": [
    {
     "data": {
      "text/plain": [
       "184"
      ]
     },
     "execution_count": 4,
     "metadata": {},
     "output_type": "execute_result"
    }
   ],
   "source": [
    "# find first row of each country, set it to zero.\n",
    "# so first get country list\n",
    "unique_countries = df_m[\"CountryName\"].unique()\n",
    "len(unique_countries)"
   ]
  },
  {
   "cell_type": "code",
   "execution_count": 5,
   "metadata": {},
   "outputs": [
    {
     "data": {
      "text/plain": [
       "34.0"
      ]
     },
     "execution_count": 5,
     "metadata": {},
     "output_type": "execute_result"
    }
   ],
   "source": [
    "len(df_m) / len(unique_countries)"
   ]
  },
  {
   "cell_type": "code",
   "execution_count": 6,
   "metadata": {},
   "outputs": [],
   "source": [
    "for i in range(len(unique_countries)):\n",
    "    df_m.loc[i*34, \"NewConfirmedCases\"] = 0\n",
    "    df_m.loc[i*34, \"NewConfirmedDeaths\"] = 0\n",
    "df_m.to_csv(\"monthly.csv\", index=False)"
   ]
  },
  {
   "cell_type": "markdown",
   "metadata": {},
   "source": [
    "### Process Ten Day Data"
   ]
  },
  {
   "cell_type": "code",
   "execution_count": 7,
   "metadata": {},
   "outputs": [
    {
     "name": "stdout",
     "output_type": "stream",
     "text": [
      "104.0\n"
     ]
    }
   ],
   "source": [
    "df_t = pd.read_csv(\"ten_days_old.csv\")\n",
    "df_t[\"NewConfirmedCases\"] = df_t[\"ConfirmedCases\"].diff()\n",
    "df_t[\"NewConfirmedDeaths\"] = df_t[\"ConfirmedDeaths\"].diff()\n",
    "# df_t.fillna(0, inplace=True)\n",
    "print(len(df_t) / len(unique_countries))"
   ]
  },
  {
   "cell_type": "code",
   "execution_count": 8,
   "metadata": {},
   "outputs": [],
   "source": [
    "for i in range(len(unique_countries)):\n",
    "    df_t.loc[i*104, \"NewConfirmedCases\"] = 0\n",
    "    df_t.loc[i*104, \"NewConfirmedDeaths\"] = 0\n",
    "df_t.to_csv(\"ten_days.csv\", index=False)"
   ]
  },
  {
   "cell_type": "markdown",
   "metadata": {},
   "source": [
    "### Process Daily Data"
   ]
  },
  {
   "cell_type": "code",
   "execution_count": 9,
   "metadata": {},
   "outputs": [],
   "source": [
    "import pandas as pd"
   ]
  },
  {
   "cell_type": "code",
   "execution_count": 10,
   "metadata": {},
   "outputs": [
    {
     "name": "stdout",
     "output_type": "stream",
     "text": [
      "1065.0\n"
     ]
    }
   ],
   "source": [
    "df_d = pd.read_csv(\"daily_old.csv\")\n",
    "df_d[\"NewConfirmedCases\"] = df_d[\"ConfirmedCases\"].diff()\n",
    "df_d[\"NewConfirmedDeaths\"] = df_d[\"ConfirmedDeaths\"].diff()\n",
    "# df_t.fillna(0, inplace=True)\n",
    "print(len(df_d) / len(unique_countries))"
   ]
  },
  {
   "cell_type": "code",
   "execution_count": 11,
   "metadata": {},
   "outputs": [],
   "source": [
    "for i in range(len(unique_countries)):\n",
    "    df_d.loc[i*1065, \"NewConfirmedCases\"] = 0\n",
    "    df_d.loc[i*1065, \"NewConfirmedDeaths\"] = 0\n",
    "df_d.to_csv(\"daily.csv\", index=False)"
   ]
  }
 ],
 "metadata": {
  "kernelspec": {
   "display_name": "Python 3.8.0 64-bit",
   "language": "python",
   "name": "python3"
  },
  "language_info": {
   "codemirror_mode": {
    "name": "ipython",
    "version": 3
   },
   "file_extension": ".py",
   "mimetype": "text/x-python",
   "name": "python",
   "nbconvert_exporter": "python",
   "pygments_lexer": "ipython3",
   "version": "3.8.0"
  },
  "orig_nbformat": 4,
  "vscode": {
   "interpreter": {
    "hash": "e337efa0dbf50a479327a09a7ca80daa2467993c275d2b4497525709bdc18a22"
   }
  }
 },
 "nbformat": 4,
 "nbformat_minor": 2
}
